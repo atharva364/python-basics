{
  "nbformat": 4,
  "nbformat_minor": 0,
  "metadata": {
    "colab": {
      "provenance": []
    },
    "kernelspec": {
      "name": "python3",
      "display_name": "Python 3"
    },
    "language_info": {
      "name": "python"
    }
  },
  "cells": [
    {
      "cell_type": "code",
      "execution_count": null,
      "metadata": {
        "id": "bvNC6gp47n-q"
      },
      "outputs": [],
      "source": []
    },
    {
      "cell_type": "markdown",
      "source": [
        "# Python Basics"
      ],
      "metadata": {
        "id": "BZiZRsEf7pp-"
      }
    },
    {
      "cell_type": "markdown",
      "source": [
        "# 1. Write a Python program to print \"Hello, World!\"\n"
      ],
      "metadata": {
        "id": "tJbh-Vdw75we"
      }
    },
    {
      "cell_type": "code",
      "source": [
        "print(\"Hello, world!\")"
      ],
      "metadata": {
        "colab": {
          "base_uri": "https://localhost:8080/"
        },
        "id": "KhDab0728GKr",
        "outputId": "14673e5f-7f60-4249-8fb9-6a6f53839349"
      },
      "execution_count": 2,
      "outputs": [
        {
          "output_type": "stream",
          "name": "stdout",
          "text": [
            "Hello, world!\n"
          ]
        }
      ]
    },
    {
      "cell_type": "markdown",
      "source": [
        "# 2.Write a Python program that displays your name and age."
      ],
      "metadata": {
        "id": "VXWn0ASo8tNw"
      }
    },
    {
      "cell_type": "code",
      "source": [
        "name = \"Your Name\"\n",
        "age = 22\n",
        "\n",
        "print(name)\n",
        "print(age)"
      ],
      "metadata": {
        "colab": {
          "base_uri": "https://localhost:8080/"
        },
        "id": "ukhbQH__9HJ_",
        "outputId": "02afae73-b554-426a-b3e0-0d8b443c6285"
      },
      "execution_count": 7,
      "outputs": [
        {
          "output_type": "stream",
          "name": "stdout",
          "text": [
            "Your Name\n",
            "22\n"
          ]
        }
      ]
    },
    {
      "cell_type": "markdown",
      "source": [
        "# 3. Write code to print all the pre-defined keywords in Python using the keyword library."
      ],
      "metadata": {
        "id": "hHdrGhJ-_C0O"
      }
    },
    {
      "cell_type": "code",
      "source": [
        "import keyword\n",
        "\n",
        "print(\"Python keywords:\")\n",
        "print(keyword.kwlist)"
      ],
      "metadata": {
        "colab": {
          "base_uri": "https://localhost:8080/"
        },
        "id": "U39W4QOq_UII",
        "outputId": "60926c79-292c-40d7-8401-0bb7af774095"
      },
      "execution_count": 8,
      "outputs": [
        {
          "output_type": "stream",
          "name": "stdout",
          "text": [
            "Python keywords:\n",
            "['False', 'None', 'True', 'and', 'as', 'assert', 'async', 'await', 'break', 'class', 'continue', 'def', 'del', 'elif', 'else', 'except', 'finally', 'for', 'from', 'global', 'if', 'import', 'in', 'is', 'lambda', 'nonlocal', 'not', 'or', 'pass', 'raise', 'return', 'try', 'while', 'with', 'yield']\n"
          ]
        }
      ]
    },
    {
      "cell_type": "markdown",
      "source": [
        "# 4. Write a program that checks if a given word is a Python keyword."
      ],
      "metadata": {
        "id": "ReElEX6hACQB"
      }
    },
    {
      "cell_type": "code",
      "source": [
        "import keyword\n",
        "\n",
        "def check_keyword(word):\n",
        "    if keyword.iskeyword(word):\n",
        "      print(f\"{word} is a Python keyword.\")\n",
        "    else:\n",
        "      print(f\"{word} is not a Python keyword.\")\n",
        "\n",
        "word = input(\"Enter a word to check if it is a python keyword: \")\n",
        "check_keyword(word)"
      ],
      "metadata": {
        "colab": {
          "base_uri": "https://localhost:8080/"
        },
        "id": "RnFhWjzMATsK",
        "outputId": "c347b59f-eca5-4ddd-8bcf-4a5f3080b45d"
      },
      "execution_count": 10,
      "outputs": [
        {
          "output_type": "stream",
          "name": "stdout",
          "text": [
            "Enter a word to check if it is a python keyword: assert\n",
            "assert is a Python keyword.\n"
          ]
        }
      ]
    },
    {
      "cell_type": "markdown",
      "source": [
        "# 5. Create a list and tuple in Python, and demonstrate how attempting to change an element works differently for each.\n"
      ],
      "metadata": {
        "id": "c6AuosztB-97"
      }
    },
    {
      "cell_type": "code",
      "source": [
        "my_list = [1, 2, 3, 4, 5]\n",
        "my_tuple = (1, 2, 3, 4, 5)\n",
        "\n",
        "print(\"Original list:\", my_list)\n",
        "my_list[2] = 10\n",
        "print(\"Modified list:\", my_list)\n",
        "\n",
        "print(\"Original tuple:\", my_tuple)\n",
        "try:\n",
        "     my_tuple[2] = 10\n",
        "except TypeError as e:\n",
        "     print(\"Error:\", e)\n"
      ],
      "metadata": {
        "colab": {
          "base_uri": "https://localhost:8080/"
        },
        "id": "WvKyTY-ZCw0s",
        "outputId": "97ab5791-f225-4443-85d5-251c9c3ae247"
      },
      "execution_count": 26,
      "outputs": [
        {
          "output_type": "stream",
          "name": "stdout",
          "text": [
            "Original list: [1, 2, 3, 4, 5]\n",
            "Modified list: [1, 2, 10, 4, 5]\n",
            "Original tuple: (1, 2, 3, 4, 5)\n",
            "Error: 'tuple' object does not support item assignment\n"
          ]
        }
      ]
    },
    {
      "cell_type": "markdown",
      "source": [
        "# 6. Write a function to demonstrate the behavior of mutable and immutable arguments."
      ],
      "metadata": {
        "id": "9ZurKGbwEHWX"
      }
    },
    {
      "cell_type": "code",
      "source": [
        "def demonstrate_mutable_immutable(mutable_arg, immutable_arg):\n",
        "    print(f\"Original mutable_arg (before modification): {mutable_arg}\")\n",
        "    mutable_arg.append(100)\n",
        "    print(f\"mutable_arg after modification : {mutable_arg}\")\n",
        "\n",
        "    print(f\"Original immutable_arg (before modification): {immutable_arg}\")\n",
        "    immutable_arg += 10\n",
        "    print(f\"immutable_arg after modification : {immutable_arg}\")\n",
        "\n",
        "\n",
        "my_list = [1, 2, 3]\n",
        "my_number = 50\n",
        "demonstrate_mutable_immutable(my_list, my_number)\n",
        "\n",
        "print(f\"my_list after function call: {my_list}\")\n",
        "print(f\"my_number after function call: {my_number}\")"
      ],
      "metadata": {
        "colab": {
          "base_uri": "https://localhost:8080/"
        },
        "id": "uXaLOHgDEUtk",
        "outputId": "97e3a766-9700-422c-f8fc-939cd22ed5ea"
      },
      "execution_count": 28,
      "outputs": [
        {
          "output_type": "stream",
          "name": "stdout",
          "text": [
            "Original mutable_arg (before modification): [1, 2, 3]\n",
            "mutable_arg after modification : [1, 2, 3, 100]\n",
            "Original immutable_arg (before modification): 50\n",
            "immutable_arg after modification : 60\n",
            "my_list after function call: [1, 2, 3, 100]\n",
            "my_number after function call: 50\n"
          ]
        }
      ]
    },
    {
      "cell_type": "markdown",
      "source": [
        "# 7. Write a program that performs basic arithmetic operations on two user-input numbers.\n",
        "\n"
      ],
      "metadata": {
        "id": "vgfDepnDLOHj"
      }
    },
    {
      "cell_type": "code",
      "source": [
        "def basic_arithmetic_operations(num1, num2):\n",
        "    print(f\"Addition: {num1} + {num2} = {num1 + num2}\")\n",
        "    print(f\"Subtraction: {num1} - {num2} = {num1 - num2}\")\n",
        "    print(f\"Multiplication: {num1} * {num2} = {num1 * num2}\")\n",
        "\n",
        "    if num2 != 0:\n",
        "      print(f\"Division {num1} / {num2} = {num1 / num2}\")\n",
        "    else:\n",
        "      print(\"Division: Cannot divide by zero. \")\n",
        "\n",
        "\n",
        "def main() :\n",
        "    try:\n",
        "              num1 = float(input(\"Enter the first number: \"))\n",
        "              num2 = float(input(\"Enter the second number: \"))\n",
        "\n",
        "              basic_arithmetic_operations(num1, num2)\n",
        "\n",
        "    except ValueError:\n",
        "            print(\"Invalid input! Please enter numeric values. \")\n",
        "\n",
        "\n",
        "if __name__ ==  \"__main__\":\n",
        "    main()"
      ],
      "metadata": {
        "colab": {
          "base_uri": "https://localhost:8080/"
        },
        "id": "E1FosGyxLkw_",
        "outputId": "a60cad98-761f-4de6-e142-013df08cdfc1"
      },
      "execution_count": 40,
      "outputs": [
        {
          "output_type": "stream",
          "name": "stdout",
          "text": [
            "Enter the first number: 10\n",
            "Enter the second number: 5\n",
            "Addition: 10.0 + 5.0 = 15.0\n",
            "Subtraction: 10.0 - 5.0 = 5.0\n",
            "Multiplication: 10.0 * 5.0 = 50.0\n",
            "Division 10.0 / 5.0 = 2.0\n"
          ]
        }
      ]
    },
    {
      "cell_type": "markdown",
      "source": [
        "# 8. Write a program to demonstrate the use of logical operators."
      ],
      "metadata": {
        "id": "AMGQ1-kIULys"
      }
    },
    {
      "cell_type": "code",
      "source": [
        "\n",
        "x = 10\n",
        "y = 20\n",
        "z = 30\n",
        "\n",
        "\n",
        "if x < y and y < z:\n",
        "    print(\"x is less than y and y is less than z\")\n",
        "\n",
        "\n",
        "if x > y or y < z:\n",
        "    print(\"Either x is greater than y or y is less than z\")\n",
        "\n",
        "\n",
        "if not(x > y):\n",
        "    print(\"x is not greater than y\")\n",
        "\n",
        "\n",
        "if (x < y and y < z) or not(x == z):\n",
        "    print(\"The combined logical condition is True\")\n"
      ],
      "metadata": {
        "colab": {
          "base_uri": "https://localhost:8080/"
        },
        "id": "gq1JW4HIUZ5w",
        "outputId": "229dc3e9-6f05-4919-cdca-4ae0f8666b56"
      },
      "execution_count": 41,
      "outputs": [
        {
          "output_type": "stream",
          "name": "stdout",
          "text": [
            "x is less than y and y is less than z\n",
            "Either x is greater than y or y is less than z\n",
            "x is not greater than y\n",
            "The combined logical condition is True\n"
          ]
        }
      ]
    },
    {
      "cell_type": "markdown",
      "source": [
        "#  9. Write a Python program to convert user input from string to integer, float, and boolean types."
      ],
      "metadata": {
        "id": "yCfjEAdaVBRN"
      }
    },
    {
      "cell_type": "code",
      "source": [
        "\n",
        "user_input = input(\"Enter a value: \")\n",
        "\n",
        "\n",
        "try:\n",
        "    int_value = int(user_input)\n",
        "    print(f\"The integer value is: {int_value}\")\n",
        "except ValueError:\n",
        "    print(\"Invalid input for integer conversion.\")\n",
        "try:\n",
        "    float_value = float(user_input)\n",
        "    print(f\"The float value is: {float_value}\")\n",
        "except ValueError:\n",
        "    print(\"Invalid input for float conversion.\")\n",
        "\n",
        "\n",
        "\n",
        "bool_value = bool(user_input)\n",
        "print(f\"The boolean value is: {bool_value}\")\n"
      ],
      "metadata": {
        "colab": {
          "base_uri": "https://localhost:8080/"
        },
        "id": "F_jtYcFbVL4w",
        "outputId": "a6d7726f-fa5b-4a5b-e0d3-0aa7a4f79078"
      },
      "execution_count": 42,
      "outputs": [
        {
          "output_type": "stream",
          "name": "stdout",
          "text": [
            "Enter a value: 21\n",
            "The integer value is: 21\n",
            "The float value is: 21.0\n",
            "The boolean value is: True\n"
          ]
        }
      ]
    },
    {
      "cell_type": "markdown",
      "source": [
        "# 10. Write code to demonstrate type casting with list elements."
      ],
      "metadata": {
        "id": "crol1jGpVw9d"
      }
    },
    {
      "cell_type": "code",
      "source": [
        "\n",
        "mixed_list = [1, 2.5, '3', 'True', 4.8, '7']\n",
        "\n",
        "\n",
        "int_list = [int(float(x)) if str(x).replace('.', '', 1).isdigit() else 0 for x in mixed_list]\n",
        "print(f\"List with elements converted to integers: {int_list}\")\n",
        "\n",
        "\n",
        "float_list = [float(x) if str(x).replace('.', '', 1).isdigit() else 0.0 for x in mixed_list]\n",
        "print(f\"List with elements converted to floats: {float_list}\")\n",
        "\n",
        "\n",
        "bool_list = [bool(x) for x in mixed_list]\n",
        "print(f\"List with elements converted to booleans: {bool_list}\")\n"
      ],
      "metadata": {
        "colab": {
          "base_uri": "https://localhost:8080/"
        },
        "id": "Mx8AX6-YXMSH",
        "outputId": "56374761-e841-4143-ca6b-f5dac37e873b"
      },
      "execution_count": 48,
      "outputs": [
        {
          "output_type": "stream",
          "name": "stdout",
          "text": [
            "List with elements converted to integers: [1, 2, 3, 0, 4, 7]\n",
            "List with elements converted to floats: [1.0, 2.5, 3.0, 0.0, 4.8, 7.0]\n",
            "List with elements converted to booleans: [True, True, True, True, True, True]\n"
          ]
        }
      ]
    },
    {
      "cell_type": "markdown",
      "source": [
        "# 11. Write a program that checks if a number is positive, negative, or zero."
      ],
      "metadata": {
        "id": "qJNv6liwXv4z"
      }
    },
    {
      "cell_type": "code",
      "source": [
        "\n",
        "number = float(input(\"Enter a number: \"))\n",
        "\n",
        "\n",
        "if number > 0:\n",
        "    print(\"The number is positive.\")\n",
        "elif number < 0:\n",
        "    print(\"The number is negative.\")\n",
        "else:\n",
        "    print(\"The number is zero.\")\n"
      ],
      "metadata": {
        "colab": {
          "base_uri": "https://localhost:8080/"
        },
        "id": "iQCMMvIBX205",
        "outputId": "3ed41e20-6c67-457c-d30c-1d027c7e0512"
      },
      "execution_count": 50,
      "outputs": [
        {
          "output_type": "stream",
          "name": "stdout",
          "text": [
            "Enter a number: -10\n",
            "The number is negative.\n"
          ]
        }
      ]
    },
    {
      "cell_type": "markdown",
      "source": [
        "# 12. Write a for loop to print numbers from 1 to 10.\n",
        "\n"
      ],
      "metadata": {
        "id": "p3C1nVJCYI_7"
      }
    },
    {
      "cell_type": "code",
      "source": [
        "# Python program to print numbers from 1 to 10 using a for loop\n",
        "\n",
        "for i in range(1, 11):\n",
        "    print(i)\n"
      ],
      "metadata": {
        "colab": {
          "base_uri": "https://localhost:8080/"
        },
        "id": "bGrmXNLZYUfz",
        "outputId": "6bc6ba3b-dcd2-402d-be6a-37922df228db"
      },
      "execution_count": 51,
      "outputs": [
        {
          "output_type": "stream",
          "name": "stdout",
          "text": [
            "1\n",
            "2\n",
            "3\n",
            "4\n",
            "5\n",
            "6\n",
            "7\n",
            "8\n",
            "9\n",
            "10\n"
          ]
        }
      ]
    },
    {
      "cell_type": "markdown",
      "source": [
        "# 13. Write a Python program to find the sum of all even numbers between 1 and 50.\n",
        "\n"
      ],
      "metadata": {
        "id": "X0Z6DejFYeR2"
      }
    },
    {
      "cell_type": "code",
      "source": [
        "\n",
        "sum_even = 0\n",
        "\n",
        "for number in range(1, 51):\n",
        "    if number % 2 == 0:\n",
        "        sum_even += number\n",
        "\n",
        "\n",
        "print(f\"The sum of all even numbers between 1 and 50 is: {sum_even}\")\n"
      ],
      "metadata": {
        "colab": {
          "base_uri": "https://localhost:8080/"
        },
        "id": "oc0Sk5uiYneb",
        "outputId": "d924b86a-56fc-4296-8e19-9273e36238fd"
      },
      "execution_count": 54,
      "outputs": [
        {
          "output_type": "stream",
          "name": "stdout",
          "text": [
            "The sum of all even numbers between 1 and 50 is: 650\n"
          ]
        }
      ]
    },
    {
      "cell_type": "markdown",
      "source": [
        "# 14. Write a program to reverse a string using a while loop."
      ],
      "metadata": {
        "id": "K_bK9JjxY7LW"
      }
    },
    {
      "cell_type": "code",
      "source": [
        "\n",
        "input_string = input(\"Enter a string: \")\n",
        "\n",
        "\n",
        "reversed_string = \"\"\n",
        "\n",
        "\n",
        "index = len(input_string) - 1\n",
        "\n",
        "\n",
        "while index >= 0:\n",
        "    reversed_string += input_string[index]\n",
        "    index -= 1\n",
        "\n",
        "\n",
        "print(f\"The reversed string is: {reversed_string}\")\n"
      ],
      "metadata": {
        "colab": {
          "base_uri": "https://localhost:8080/"
        },
        "id": "2MVf6NaiZCIt",
        "outputId": "aa2e6040-4916-4505-e69d-c9bf55ca9c6c"
      },
      "execution_count": 55,
      "outputs": [
        {
          "output_type": "stream",
          "name": "stdout",
          "text": [
            "Enter a string: raj\n",
            "The reversed string is: jar\n"
          ]
        }
      ]
    },
    {
      "cell_type": "markdown",
      "source": [
        "# 15. Write a Python program to calculate the factorial of a number provided by the user using a while loop."
      ],
      "metadata": {
        "id": "NcMKlrkHZXGd"
      }
    },
    {
      "cell_type": "code",
      "source": [
        "\n",
        "number = int(input(\"Enter a number: \"))\n",
        "\n",
        "factorial = 1\n",
        "\n",
        "\n",
        "if number < 0:\n",
        "    print(\"Factorial does not exist for negative numbers.\")\n",
        "else:\n",
        "\n",
        "    while number > 1:\n",
        "        factorial *= number\n",
        "        number -= 1\n",
        "\n",
        "\n",
        "    print(f\"The factorial is: {factorial}\")\n"
      ],
      "metadata": {
        "colab": {
          "base_uri": "https://localhost:8080/"
        },
        "id": "as9I4g4wZjde",
        "outputId": "35bd4d77-aecb-486f-db8e-12734d0d1a83"
      },
      "execution_count": 56,
      "outputs": [
        {
          "output_type": "stream",
          "name": "stdout",
          "text": [
            "Enter a number: 7\n",
            "The factorial is: 5040\n"
          ]
        }
      ]
    }
  ]
}